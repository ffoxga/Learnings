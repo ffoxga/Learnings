{
 "cells": [
  {
   "cell_type": "code",
   "execution_count": 1,
   "id": "6320f5a9-7648-4e13-9b41-cf14f4e5c0e9",
   "metadata": {},
   "outputs": [],
   "source": [
    "import pandas as pd\n",
    "import numpy as np\n",
    "import matplotlib.pyplot as plt\n",
    "import seaborn as sns\n",
    "from scipy import stats"
   ]
  },
  {
   "cell_type": "code",
   "execution_count": 2,
   "id": "b1655114-fd17-475b-9933-285839f667ef",
   "metadata": {},
   "outputs": [],
   "source": [
    "student = pd.read_csv('student.csv', sep=';')"
   ]
  },
  {
   "cell_type": "code",
   "execution_count": 3,
   "id": "7595b5ba-e36e-4bf9-b8fa-97d1d1d4082b",
   "metadata": {},
   "outputs": [
    {
     "name": "stdout",
     "output_type": "stream",
     "text": [
      "<class 'pandas.core.frame.DataFrame'>\n",
      "RangeIndex: 649 entries, 0 to 648\n",
      "Data columns (total 33 columns):\n",
      " #   Column      Non-Null Count  Dtype \n",
      "---  ------      --------------  ----- \n",
      " 0   school      649 non-null    object\n",
      " 1   sex         649 non-null    object\n",
      " 2   age         649 non-null    int64 \n",
      " 3   address     649 non-null    object\n",
      " 4   famsize     649 non-null    object\n",
      " 5   Pstatus     649 non-null    object\n",
      " 6   Medu        649 non-null    int64 \n",
      " 7   Fedu        649 non-null    int64 \n",
      " 8   Mjob        649 non-null    object\n",
      " 9   Fjob        649 non-null    object\n",
      " 10  reason      649 non-null    object\n",
      " 11  guardian    649 non-null    object\n",
      " 12  traveltime  649 non-null    int64 \n",
      " 13  studytime   649 non-null    int64 \n",
      " 14  failures    649 non-null    int64 \n",
      " 15  schoolsup   649 non-null    object\n",
      " 16  famsup      649 non-null    object\n",
      " 17  paid        649 non-null    object\n",
      " 18  activities  649 non-null    object\n",
      " 19  nursery     649 non-null    object\n",
      " 20  higher      649 non-null    object\n",
      " 21  internet    649 non-null    object\n",
      " 22  romantic    649 non-null    object\n",
      " 23  famrel      649 non-null    int64 \n",
      " 24  freetime    649 non-null    int64 \n",
      " 25  goout       649 non-null    int64 \n",
      " 26  Dalc        649 non-null    int64 \n",
      " 27  Walc        649 non-null    int64 \n",
      " 28  health      649 non-null    int64 \n",
      " 29  absences    649 non-null    int64 \n",
      " 30  G1          649 non-null    int64 \n",
      " 31  G2          649 non-null    int64 \n",
      " 32  G3          649 non-null    int64 \n",
      "dtypes: int64(16), object(17)\n",
      "memory usage: 167.4+ KB\n"
     ]
    }
   ],
   "source": [
    "student.shape\n",
    "student.info()"
   ]
  },
  {
   "cell_type": "code",
   "execution_count": 4,
   "id": "ea31ed7d-8479-4c7d-abea-94504b3a2bd2",
   "metadata": {},
   "outputs": [],
   "source": [
    "# interested columns - gender(sex), G3(final grade), acl(alcohol consumption level)"
   ]
  },
  {
   "cell_type": "code",
   "execution_count": 5,
   "id": "f0f98dec-82b5-4990-a43a-0b1a323861cd",
   "metadata": {},
   "outputs": [],
   "source": [
    "# rename the sex column to gender\n",
    "student.rename(columns={'sex': 'gender'}, inplace=True)"
   ]
  },
  {
   "cell_type": "code",
   "execution_count": 6,
   "id": "d01b7a05-1222-4685-a828-a0ca26d4fdd6",
   "metadata": {},
   "outputs": [],
   "source": [
    "# create new column, will be used for creating the acl column\n",
    "student['alcohol_index'] = (5*student['Dalc'] + 2*student['Walc'])/7"
   ]
  },
  {
   "cell_type": "code",
   "execution_count": 7,
   "id": "19702d1c-0b8b-467c-a523-3cef0a62fc54",
   "metadata": {},
   "outputs": [],
   "source": [
    "# create the acl column\n",
    "student['acl'] = student['alcohol_index'] <= 2\n",
    "student['acl'] = student['acl'].map({True: 'Low', False: 'High'})"
   ]
  },
  {
   "cell_type": "code",
   "execution_count": 8,
   "id": "43531c90-2f8e-4e01-83c3-ebceba7e099d",
   "metadata": {},
   "outputs": [
    {
     "data": {
      "text/plain": [
       "0       Low\n",
       "1       Low\n",
       "2      High\n",
       "3       Low\n",
       "4       Low\n",
       "       ... \n",
       "644     Low\n",
       "645     Low\n",
       "646     Low\n",
       "647    High\n",
       "648    High\n",
       "Name: acl, Length: 649, dtype: object"
      ]
     },
     "execution_count": 8,
     "metadata": {},
     "output_type": "execute_result"
    }
   ],
   "source": [
    "student['acl']"
   ]
  },
  {
   "cell_type": "code",
   "execution_count": null,
   "id": "7b1436a1-a78b-474b-b78d-2579575dcd6d",
   "metadata": {},
   "outputs": [],
   "source": []
  },
  {
   "cell_type": "markdown",
   "id": "da098ba8-3c9d-49ea-9711-577c57aebf08",
   "metadata": {},
   "source": [
    "### Confidence Intervals"
   ]
  },
  {
   "cell_type": "code",
   "execution_count": 9,
   "id": "642f391b-b070-4de6-b4fb-195b75e3e2b5",
   "metadata": {},
   "outputs": [
    {
     "data": {
      "text/plain": [
       "649"
      ]
     },
     "execution_count": 9,
     "metadata": {},
     "output_type": "execute_result"
    }
   ],
   "source": [
    "sample_size = student.shape[0] # to see if we can use central limit theorem to cal confidence interval\n",
    "sample_size"
   ]
  },
  {
   "cell_type": "markdown",
   "id": "57ca63da-ab9a-41b9-bb59-e13f3852a1b8",
   "metadata": {},
   "source": [
    "#### mean"
   ]
  },
  {
   "cell_type": "code",
   "execution_count": 10,
   "id": "945656bb-62db-4d57-bb99-18885e2ad349",
   "metadata": {},
   "outputs": [
    {
     "data": {
      "text/plain": [
       "np.float64(11.906009244992296)"
      ]
     },
     "execution_count": 10,
     "metadata": {},
     "output_type": "execute_result"
    }
   ],
   "source": [
    "# sample mean\n",
    "sample_mean_grade = student['G3'].mean()\n",
    "sample_mean_grade"
   ]
  },
  {
   "cell_type": "code",
   "execution_count": 11,
   "id": "54474c5e-774e-4d9b-bfb8-768db87d3076",
   "metadata": {},
   "outputs": [
    {
     "data": {
      "text/plain": [
       "np.float64(0.12681435030794902)"
      ]
     },
     "execution_count": 11,
     "metadata": {},
     "output_type": "execute_result"
    }
   ],
   "source": [
    "# standard error\n",
    "std_error_grades = student['G3'].std()/np.sqrt(sample_size)\n",
    "std_error_grades"
   ]
  },
  {
   "cell_type": "code",
   "execution_count": 12,
   "id": "0a9a620c-1aa5-4b86-a2a9-2e8437d0cc3e",
   "metadata": {},
   "outputs": [
    {
     "data": {
      "text/plain": [
       "(np.float64(11.65745768566587), np.float64(12.154560804318722))"
      ]
     },
     "execution_count": 12,
     "metadata": {},
     "output_type": "execute_result"
    }
   ],
   "source": [
    "# confidence interval of the mean, with 95% confidence level\n",
    "stats.norm.interval(0.95, loc=sample_mean_grade, scale=std_error_grades)"
   ]
  },
  {
   "cell_type": "code",
   "execution_count": null,
   "id": "94b95e88-7841-42b3-80ba-6666bc486bdb",
   "metadata": {},
   "outputs": [],
   "source": []
  },
  {
   "cell_type": "markdown",
   "id": "97d65bc9-5180-4eba-bc8f-9b9eeaf9544d",
   "metadata": {},
   "source": [
    "#### proportion"
   ]
  },
  {
   "cell_type": "code",
   "execution_count": 13,
   "id": "ebfe9ce2-6563-47ac-b59e-57647a03cd82",
   "metadata": {},
   "outputs": [],
   "source": [
    "# sample proportion of students with high alcohol consumption\n",
    "high_prop = student['acl'].value_counts(normalize=True)['High']"
   ]
  },
  {
   "cell_type": "code",
   "execution_count": 14,
   "id": "6007c129-82a1-4281-8ed4-4559d005fced",
   "metadata": {},
   "outputs": [],
   "source": [
    "# standard error\n",
    "std_error_prop = np.sqrt(high_prop*(1-high_prop)/sample_size)"
   ]
  },
  {
   "cell_type": "code",
   "execution_count": 15,
   "id": "7afdb651-a560-4e45-bb9f-74d78b2d8739",
   "metadata": {},
   "outputs": [
    {
     "data": {
      "text/plain": [
       "(np.float64(0.21593666225148048), np.float64(0.2956195781183193))"
      ]
     },
     "execution_count": 15,
     "metadata": {},
     "output_type": "execute_result"
    }
   ],
   "source": [
    "# confidence interval for the proportion, using 98% confidence level\n",
    "stats.norm.interval(0.98, loc=high_prop, scale=std_error_prop)"
   ]
  },
  {
   "cell_type": "code",
   "execution_count": null,
   "id": "80e853ee-3264-4c57-9758-f8cde3c2e41e",
   "metadata": {},
   "outputs": [],
   "source": []
  },
  {
   "cell_type": "markdown",
   "id": "153abd46-77ad-4c23-8f22-d1ee179f7bd4",
   "metadata": {},
   "source": [
    "### Probability calculations"
   ]
  },
  {
   "cell_type": "code",
   "execution_count": 16,
   "id": "b5955524-bfb1-4e11-b9f5-b2493f6b08fe",
   "metadata": {},
   "outputs": [
    {
     "data": {
      "text/plain": [
       "np.float64(0.058399200439453146)"
      ]
     },
     "execution_count": 16,
     "metadata": {},
     "output_type": "execute_result"
    }
   ],
   "source": [
    "# in a class of 10 what is the probability of finding 5 students with high level consumptions with .25 or 25% chance\n",
    "stats.binom.pmf(k=5, n=10, p=.25)"
   ]
  },
  {
   "cell_type": "code",
   "execution_count": null,
   "id": "57c4c149-a9ca-44c2-a664-d499daf704d8",
   "metadata": {},
   "outputs": [],
   "source": []
  },
  {
   "cell_type": "markdown",
   "id": "07a7d379-68c1-4879-91c3-88fc506acaad",
   "metadata": {},
   "source": [
    "#### calculate many probabilities at the same time"
   ]
  },
  {
   "cell_type": "code",
   "execution_count": 17,
   "id": "2c6034ad-a7ab-42f9-a672-46100be7010e",
   "metadata": {},
   "outputs": [],
   "source": [
    "def plot_probs_n(n):\n",
    "    fig, ax = plt.subplots(1,2, figsize = (14,4))\n",
    "    ax[0].bar(x=np.arange(n+1), height=stats.binom.pmf(k=np.arange(n+1), n=n, p=0.25))\n",
    "    ax[0].set_xticks(np.arange(n+1))\n",
    "    ax[0].set_title('Probability mass function')\n",
    "    ax[1].plot(stats.binom.cdf(k=range(n+1), n=n, p=0.25))\n",
    "    ax[1].set_xticks(np.arange(n+1))\n",
    "    ax[1].set_title('Cumulative distribution function')"
   ]
  },
  {
   "cell_type": "code",
   "execution_count": 18,
   "id": "505cdd76-2d8a-42a4-918e-9164ec21bab8",
   "metadata": {},
   "outputs": [
    {
     "data": {
      "image/png": "[encoded data removed]",
      "text/plain": [
       "<Figure size 1400x400 with 2 Axes>"
      ]
     },
     "metadata": {},
     "output_type": "display_data"
    }
   ],
   "source": [
    "plot_probs_n(10)"
   ]
  },
  {
   "cell_type": "code",
   "execution_count": null,
   "id": "8e1e7ba6-f7c6-4072-b301-49a147c07a55",
   "metadata": {},
   "outputs": [],
   "source": []
  },
  {
   "cell_type": "markdown",
   "id": "65ad1ff0-2658-48eb-a760-f0025b2f5e80",
   "metadata": {},
   "source": [
    "### Hypothesis testing"
   ]
  },
  {
   "cell_type": "code",
   "execution_count": 19,
   "id": "a75ac441-7fd8-457a-9355-9f25c778f51c",
   "metadata": {},
   "outputs": [
    {
     "data": {
      "text/plain": [
       "acl\n",
       "High    11.151406\n",
       "Low      9.765917\n",
       "Name: G3, dtype: float64"
      ]
     },
     "execution_count": 19,
     "metadata": {},
     "output_type": "execute_result"
    }
   ],
   "source": [
    "# describe the variance\n",
    "student.groupby('acl')['G3'].var()"
   ]
  },
  {
   "cell_type": "code",
   "execution_count": 20,
   "id": "2b3b7859-08e2-4e46-a4cd-4a1415a46cb8",
   "metadata": {},
   "outputs": [
    {
     "data": {
      "text/plain": [
       "BartlettResult(statistic=np.float64(2.3294650190032273), pvalue=np.float64(0.12694549872289732))"
      ]
     },
     "execution_count": 20,
     "metadata": {},
     "output_type": "execute_result"
    }
   ],
   "source": [
    "# bartlett's test to verify - from scipy stats\n",
    "grades_low_acl = student.loc[student['acl'] == 'Low', 'G3']\n",
    "grades_high_acl = student.loc[student['acl'] == 'High', 'G3']\n",
    "stats.bartlett(grades_low_acl, grades_high_acl)"
   ]
  },
  {
   "cell_type": "code",
   "execution_count": 21,
   "id": "4d9139eb-bc86-4fad-8330-eab21a65ac8c",
   "metadata": {},
   "outputs": [],
   "source": [
    "# pvalue is higher than 0.05 means we cannot reject the null, thus 2 variance are equal for two groups"
   ]
  },
  {
   "cell_type": "code",
   "execution_count": null,
   "id": "e598e784-1487-466d-ab39-82aaeab84f60",
   "metadata": {},
   "outputs": [],
   "source": []
  },
  {
   "cell_type": "markdown",
   "id": "67b874b4-ef5a-49d8-84ea-6fa1c1a550d6",
   "metadata": {},
   "source": [
    "#### t-test"
   ]
  },
  {
   "cell_type": "code",
   "execution_count": 22,
   "id": "a0cef663-ef28-4dd2-a31f-be9315901dce",
   "metadata": {},
   "outputs": [],
   "source": [
    "# Q: Does alcohol consumption affect academic performance?"
   ]
  },
  {
   "cell_type": "code",
   "execution_count": 23,
   "id": "d611b9fb-0450-4fc4-8161-d26172664a9d",
   "metadata": {},
   "outputs": [
    {
     "data": {
      "image/png": "[encoded data removed]",
      "text/plain": [
       "<Figure size 1400x400 with 2 Axes>"
      ]
     },
     "metadata": {},
     "output_type": "display_data"
    }
   ],
   "source": [
    "# describe\n",
    "fig, axes = plt.subplots(1, 2, figsize=(14, 4))\n",
    "sns.boxplot(x='acl', y='G3', data=student, ax=axes[0])\n",
    "sns.pointplot(x='acl', y='G3', data=student, ax=axes[1]);"
   ]
  },
  {
   "cell_type": "code",
   "execution_count": 24,
   "id": "1e829c2d-8e5a-4e93-a229-72e8586a39fc",
   "metadata": {},
   "outputs": [],
   "source": [
    "# the group with low acl has higher grades on average than the group with high acl"
   ]
  },
  {
   "cell_type": "code",
   "execution_count": 25,
   "id": "fd3e1958-af7b-4a01-aef4-6d347ba49b29",
   "metadata": {},
   "outputs": [
    {
     "data": {
      "text/plain": [
       "TtestResult(statistic=np.float64(4.621320706949354), pvalue=np.float64(4.6036088303692694e-06), df=np.float64(647.0))"
      ]
     },
     "execution_count": 25,
     "metadata": {},
     "output_type": "execute_result"
    }
   ],
   "source": [
    "# null hypothesis - for both groups the population means of final grades are equal\n",
    "stats.ttest_ind(grades_low_acl, grades_high_acl, equal_var=True)"
   ]
  },
  {
   "cell_type": "code",
   "execution_count": 26,
   "id": "01325994-5338-41d2-983c-30d02825c5ce",
   "metadata": {},
   "outputs": [
    {
     "name": "stdout",
     "output_type": "stream",
     "text": [
      "0.0000046036\n"
     ]
    }
   ],
   "source": [
    "print(f'{4.6036088303692694e-06:.10f}')"
   ]
  },
  {
   "cell_type": "code",
   "execution_count": 27,
   "id": "03aaed13-a4eb-4867-b79d-20355cc04e71",
   "metadata": {},
   "outputs": [],
   "source": [
    "# the pvalue is very low - reject the null hypothesis\n",
    "# population means in the grades are actually different when we compare these two group based on the test."
   ]
  },
  {
   "cell_type": "code",
   "execution_count": 28,
   "id": "63d40be7-7f76-46c6-b32a-72411ede38c2",
   "metadata": {},
   "outputs": [],
   "source": [
    "# since the mean for the group with high acl is less, the alcohol consumption has a negative impact on the students academic performance"
   ]
  },
  {
   "cell_type": "code",
   "execution_count": null,
   "id": "ab40df1c-e074-4216-91cd-5fa722b3bb3f",
   "metadata": {},
   "outputs": [],
   "source": []
  },
  {
   "cell_type": "markdown",
   "id": "7ae234fe-73e8-4b82-8293-875e6e7eb04c",
   "metadata": {},
   "source": [
    "### chi-squared test for contingency table"
   ]
  },
  {
   "cell_type": "code",
   "execution_count": 29,
   "id": "d696a4e5-23d1-4dc6-a099-acd5e8a618d8",
   "metadata": {},
   "outputs": [],
   "source": [
    "# Q: Do male teenagers drink more than female teenagers?"
   ]
  },
  {
   "cell_type": "code",
   "execution_count": 30,
   "id": "dc3a9152-c9d9-4d9e-afca-ca6c06829e66",
   "metadata": {},
   "outputs": [
    {
     "data": {
      "image/png": "[encoded data removed]",
      "text/plain": [
       "<Figure size 1400x400 with 2 Axes>"
      ]
     },
     "metadata": {},
     "output_type": "display_data"
    }
   ],
   "source": [
    "# describe/overview\n",
    "fig, axes = plt.subplots(1, 2, figsize=(14, 4))\n",
    "student['gender'].value_counts().plot(kind='bar', ax=axes[0], title='Gender')\n",
    "student['acl'].value_counts().plot(kind='bar', ax=axes[1], title='Alcohol Consumption Level');"
   ]
  },
  {
   "cell_type": "code",
   "execution_count": 31,
   "id": "50e51a6b-808e-41d3-b81b-f58d561526f3",
   "metadata": {},
   "outputs": [
    {
     "data": {
      "text/html": [
       "<div>\n",
       "<style scoped>\n",
       "    .dataframe tbody tr th:only-of-type {\n",
       "        vertical-align: middle;\n",
       "    }\n",
       "\n",
       "    .dataframe tbody tr th {\n",
       "        vertical-align: top;\n",
       "    }\n",
       "\n",
       "    .dataframe thead th {\n",
       "        text-align: right;\n",
       "    }\n",
       "</style>\n",
       "<table border=\"1\" class=\"dataframe\">\n",
       "  <thead>\n",
       "    <tr style=\"text-align: right;\">\n",
       "      <th>gender</th>\n",
       "      <th>F</th>\n",
       "      <th>M</th>\n",
       "    </tr>\n",
       "    <tr>\n",
       "      <th>acl</th>\n",
       "      <th></th>\n",
       "      <th></th>\n",
       "    </tr>\n",
       "  </thead>\n",
       "  <tbody>\n",
       "    <tr>\n",
       "      <th>High</th>\n",
       "      <td>62</td>\n",
       "      <td>104</td>\n",
       "    </tr>\n",
       "    <tr>\n",
       "      <th>Low</th>\n",
       "      <td>321</td>\n",
       "      <td>162</td>\n",
       "    </tr>\n",
       "  </tbody>\n",
       "</table>\n",
       "</div>"
      ],
      "text/plain": [
       "gender    F    M\n",
       "acl             \n",
       "High     62  104\n",
       "Low     321  162"
      ]
     },
     "execution_count": 31,
     "metadata": {},
     "output_type": "execute_result"
    }
   ],
   "source": [
    "# contingency table\n",
    "gender_acl_table = pd.crosstab(student['acl'], student['gender'])\n",
    "gender_acl_table"
   ]
  },
  {
   "cell_type": "code",
   "execution_count": 32,
   "id": "261d7f7e-800a-4f99-b648-5e413e1232df",
   "metadata": {},
   "outputs": [
    {
     "data": {
      "image/png": "[encoded data removed]",
      "text/plain": [
       "<Figure size 1400x400 with 2 Axes>"
      ]
     },
     "metadata": {},
     "output_type": "display_data"
    }
   ],
   "source": [
    "# stacked bar chart\n",
    "fig, axes = plt.subplots(1, 2, figsize=(14,4))\n",
    "gender_acl_table.plot(kind='bar', stacked=True, ax=axes[0])\n",
    "(100*(gender_acl_table.T/gender_acl_table.apply(sum, axis=1)).T).plot(kind='bar', stacked=True, ax=axes[1]);"
   ]
  },
  {
   "cell_type": "code",
   "execution_count": 33,
   "id": "69d46900-db82-4d51-b883-cccc7b9ef42d",
   "metadata": {},
   "outputs": [],
   "source": [
    "# test\n",
    "chi_stat, p_value, dof, expected = stats.chi2_contingency(gender_acl_table)"
   ]
  },
  {
   "cell_type": "code",
   "execution_count": 34,
   "id": "ce575008-0b05-4ee6-afd4-3f386c0e0a78",
   "metadata": {},
   "outputs": [
    {
     "data": {
      "text/html": [
       "<div>\n",
       "<style scoped>\n",
       "    .dataframe tbody tr th:only-of-type {\n",
       "        vertical-align: middle;\n",
       "    }\n",
       "\n",
       "    .dataframe tbody tr th {\n",
       "        vertical-align: top;\n",
       "    }\n",
       "\n",
       "    .dataframe thead th {\n",
       "        text-align: right;\n",
       "    }\n",
       "</style>\n",
       "<table border=\"1\" class=\"dataframe\">\n",
       "  <thead>\n",
       "    <tr style=\"text-align: right;\">\n",
       "      <th></th>\n",
       "      <th>F</th>\n",
       "      <th>M</th>\n",
       "    </tr>\n",
       "  </thead>\n",
       "  <tbody>\n",
       "    <tr>\n",
       "      <th>High</th>\n",
       "      <td>97.96302</td>\n",
       "      <td>68.03698</td>\n",
       "    </tr>\n",
       "    <tr>\n",
       "      <th>Low</th>\n",
       "      <td>285.03698</td>\n",
       "      <td>197.96302</td>\n",
       "    </tr>\n",
       "  </tbody>\n",
       "</table>\n",
       "</div>"
      ],
      "text/plain": [
       "              F          M\n",
       "High   97.96302   68.03698\n",
       "Low   285.03698  197.96302"
      ]
     },
     "execution_count": 34,
     "metadata": {},
     "output_type": "execute_result"
    }
   ],
   "source": [
    "expected_table = pd.DataFrame(expected, index=['High', 'Low'], columns=['F', 'M'])\n",
    "expected_table"
   ]
  },
  {
   "cell_type": "code",
   "execution_count": 35,
   "id": "a8c2fece-8213-4777-b1e3-a50081c23586",
   "metadata": {},
   "outputs": [],
   "source": [
    "# null hypothesis is that there is no relationship between these two variables in the population"
   ]
  },
  {
   "cell_type": "code",
   "execution_count": 36,
   "id": "d219250a-1570-4e57-9495-1625eb4348f2",
   "metadata": {},
   "outputs": [
    {
     "name": "stdout",
     "output_type": "stream",
     "text": [
      " 0.0000000001\n"
     ]
    }
   ],
   "source": [
    "print(f'{p_value: .10f}')"
   ]
  },
  {
   "cell_type": "code",
   "execution_count": 37,
   "id": "90bbb213-f3e9-489a-a748-dac9dbd4fe07",
   "metadata": {},
   "outputs": [],
   "source": [
    "# the pvalue is very low. This a very good evidence in favor of the alternative hypothesis"
   ]
  },
  {
   "cell_type": "code",
   "execution_count": 38,
   "id": "2f1a373f-2353-4c70-bd31-205c6922495d",
   "metadata": {},
   "outputs": [
    {
     "data": {
      "image/png": "[encoded data removed]",
      "text/plain": [
       "<Figure size 1400x400 with 2 Axes>"
      ]
     },
     "metadata": {},
     "output_type": "display_data"
    }
   ],
   "source": [
    "# to visualize\n",
    "fig, axes = plt.subplots(1, 2, figsize=(14, 4))\n",
    "(100*(gender_acl_table.T/gender_acl_table.apply(sum, axis=1)).T).plot(kind='bar', stacked=True, title='Observed', ax=axes[0])\n",
    "\n",
    "(100*(expected_table.T/expected_table.apply(sum, axis=1)).T).plot(kind='bar', stacked=True, title='Expected under NO relation', ax=axes[1]);"
   ]
  },
  {
   "cell_type": "code",
   "execution_count": 39,
   "id": "42300caa-4f93-4714-98ee-5da7ec0726a7",
   "metadata": {},
   "outputs": [],
   "source": [
    "# We can see that male teenagers drink much more"
   ]
  },
  {
   "cell_type": "code",
   "execution_count": null,
   "id": "552f3f84-a626-4ec8-bd00-42ff1b4c8d42",
   "metadata": {},
   "outputs": [],
   "source": []
  }
 ],
 "metadata": {
  "kernelspec": {
   "display_name": "Python 3 (ipykernel)",
   "language": "python",
   "name": "python3"
  },
  "language_info": {
   "codemirror_mode": {
    "name": "ipython",
    "version": 3
   },
   "file_extension": ".py",
   "mimetype": "text/x-python",
   "name": "python",
   "nbconvert_exporter": "python",
   "pygments_lexer": "ipython3",
   "version": "3.11.5"
  }
 },
 "nbformat": 4,
 "nbformat_minor": 5
}
